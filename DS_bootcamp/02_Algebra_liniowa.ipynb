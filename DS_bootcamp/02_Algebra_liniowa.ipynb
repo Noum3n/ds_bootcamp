{
  "nbformat": 4,
  "nbformat_minor": 0,
  "metadata": {
    "colab": {
      "name": "02_Algebra_liniowa.ipynb",
      "provenance": [],
      "collapsed_sections": [],
      "authorship_tag": "ABX9TyMw+V34zAzL57xe9cjS5Fmw",
      "include_colab_link": true
    },
    "kernelspec": {
      "name": "python3",
      "display_name": "Python 3"
    }
  },
  "cells": [
    {
      "cell_type": "markdown",
      "metadata": {
        "id": "view-in-github",
        "colab_type": "text"
      },
      "source": [
        "<a href=\"https://colab.research.google.com/github/Noum3n/ds_bootcamp/blob/master/DS_bootcamp/02_Algebra_liniowa.ipynb\" target=\"_parent\"><img src=\"https://colab.research.google.com/assets/colab-badge.svg\" alt=\"Open In Colab\"/></a>"
      ]
    },
    {
      "cell_type": "markdown",
      "metadata": {
        "id": "fxJ5At9Zp4aG",
        "colab_type": "text"
      },
      "source": [
        "# Algebra Liniowa"
      ]
    },
    {
      "cell_type": "markdown",
      "metadata": {
        "id": "weILi4bwp_E4",
        "colab_type": "text"
      },
      "source": [
        "### Norma wektora, długość wektora\n"
      ]
    },
    {
      "cell_type": "code",
      "metadata": {
        "id": "O-QgGgfup9PA",
        "colab_type": "code",
        "colab": {}
      },
      "source": [
        ""
      ],
      "execution_count": null,
      "outputs": []
    }
  ]
}